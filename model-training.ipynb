{
 "metadata": {
  "language_info": {
   "codemirror_mode": {
    "name": "ipython",
    "version": 3
   },
   "file_extension": ".py",
   "mimetype": "text/x-python",
   "name": "python",
   "nbconvert_exporter": "python",
   "pygments_lexer": "ipython3",
   "version": "3.9.1"
  },
  "orig_nbformat": 2,
  "kernelspec": {
   "name": "python391jvsc74a57bd07ddbf317d4840e611b913c2c7743fa92ecf14481dc34890e8aab0a6f555a452d",
   "display_name": "Python 3.9.1 64-bit"
  },
  "metadata": {
   "interpreter": {
    "hash": "7ddbf317d4840e611b913c2c7743fa92ecf14481dc34890e8aab0a6f555a452d"
   }
  }
 },
 "nbformat": 4,
 "nbformat_minor": 2,
 "cells": [
  {
   "cell_type": "code",
   "execution_count": 1,
   "metadata": {},
   "outputs": [],
   "source": [
    "from osgeo import ogr, gdal, gdal_array\n",
    "import numpy as np"
   ]
  },
  {
   "cell_type": "code",
   "execution_count": 2,
   "metadata": {},
   "outputs": [],
   "source": [
    "source_path = 'E:\\\\ML\\\\satellite-image-analysis\\\\satellite-image-analysis-project\\\\sources' #rel path: 'sources'"
   ]
  },
  {
   "cell_type": "code",
   "execution_count": null,
   "metadata": {},
   "outputs": [],
   "source": [
    "for i in range(2,9):\n",
    "    shapes = ogr.Open(f'{source_path}\\\\{i}\\\\shapes.shp')\n",
    "    vec_layer = shapes.GetLayerByIndex(0)\n",
    "    raster = gdal.Open(f'{source_path}\\\\{i}\\\\img.tif', gdal.GA_ReadOnly)\n",
    "    #get relevant attributes\n",
    "    ncol = raster.RasterXSize\n",
    "    nrow = raster.RasterYSize\n",
    "    proj = raster.GetProjectionRef()\n",
    "    ext = raster.GetGeoTransform()\n",
    "    #close file data to save space\n",
    "    raster = None\n",
    "    # Create the raster dataset\n",
    "    memory_driver = gdal.GetDriverByName('GTiff')\n",
    "    out_raster_ds = memory_driver.Create(f'{source_path}\\\\{i}\\\\training.tif', ncol, nrow, 1, gdal.GDT_Byte)\n",
    "    # Set the ROI projection and extent to match input\n",
    "    out_raster_ds.SetProjection(proj)\n",
    "    out_raster_ds.SetGeoTransform(ext)\n",
    "    # Fill output band with 0 blank, no class label, value\n",
    "    b = out_raster_ds.GetRasterBand(1)\n",
    "    b.Fill(0)\n",
    "    # Rasterize the shapefile layer\n",
    "    status = gdal.RasterizeLayer(out_raster_ds,  #output\n",
    "                                [1],  #first band\n",
    "                                vec_layer,  #referenced layer layer\n",
    "                                None, None,  #No transforms\n",
    "                                [0],  #burn value 0\n",
    "                                ['ALL_TOUCHED=TRUE',  #rasterize all pixels touched by polygons\n",
    "                                'ATTRIBUTE=id']  #match raster values to SHP ID values\n",
    "                                )\n",
    "    # Close dataset\n",
    "    out_raster_ds = None"
   ]
  },
  {
   "cell_type": "code",
   "execution_count": 3,
   "metadata": {},
   "outputs": [],
   "source": [
    "X = None\n",
    "Y = None"
   ]
  },
  {
   "cell_type": "code",
   "execution_count": 4,
   "metadata": {},
   "outputs": [],
   "source": [
    "for i in range(2,9):\n",
    "    img_ds = gdal.Open(f'{source_path}\\\\{i}\\\\img.tif', gdal.GA_ReadOnly)\n",
    "    roi_ds = gdal.Open(f'{source_path}\\\\{i}\\\\training.tif', gdal.GA_ReadOnly)\n",
    "\n",
    "    img = np.zeros((img_ds.RasterYSize, img_ds.RasterXSize, img_ds.RasterCount),\n",
    "                gdal_array.GDALTypeCodeToNumericTypeCode(img_ds.GetRasterBand(1).DataType))\n",
    "    for b in range(img.shape[2]):\n",
    "        img[:, :, b] = img_ds.GetRasterBand(b + 1).ReadAsArray()\n",
    "    roi = roi_ds.GetRasterBand(1).ReadAsArray().astype(np.uint8)\n",
    "    x = img[roi > 0, :3] #only get tagged pixels & ignore 4th band\n",
    "    y = roi[roi > 0]\n",
    "    if i == 2:\n",
    "        X = x\n",
    "        Y = y\n",
    "    else:\n",
    "        np.append(X, x, axis=0)\n",
    "        np.append(Y, y)"
   ]
  },
  {
   "cell_type": "code",
   "execution_count": 5,
   "metadata": {},
   "outputs": [
    {
     "output_type": "stream",
     "name": "stdout",
     "text": [
      "[[39 83 84]\n [42 84 83]\n [40 84 85]\n ...\n [ 0  0  0]\n [ 0  0  0]\n [ 0  0  0]]\n"
     ]
    }
   ],
   "source": [
    "print(X)"
   ]
  },
  {
   "cell_type": "code",
   "execution_count": 6,
   "metadata": {},
   "outputs": [],
   "source": [
    "from sklearn.model_selection import train_test_split\n",
    "X_train, X_test, Y_train, Y_test = train_test_split(X, Y, test_size=0.2, shuffle=True)"
   ]
  },
  {
   "cell_type": "code",
   "execution_count": 7,
   "metadata": {},
   "outputs": [
    {
     "output_type": "stream",
     "name": "stdout",
     "text": [
      "success\n"
     ]
    }
   ],
   "source": [
    "from sklearn.ensemble import RandomForestClassifier\n",
    "rf = RandomForestClassifier(n_estimators=50, oob_score=True)\n",
    "rf = rf.fit(X_train, Y_train)\n",
    "print('success')"
   ]
  },
  {
   "cell_type": "code",
   "execution_count": 9,
   "metadata": {},
   "outputs": [
    {
     "output_type": "stream",
     "name": "stdout",
     "text": [
      "0.959781689289886\n2 2\n2 2\n1 1\n1 1\n1 1\n2 2\n1 1\n1 1\n2 2\n1 1\n"
     ]
    }
   ],
   "source": [
    "from sklearn.metrics import accuracy_score\n",
    "prediction = rf.predict(X_test)\n",
    "score = accuracy_score(Y_test, prediction)\n",
    "print(score)\n",
    "for i in range(10):\n",
    "    print(Y_test[i], prediction[i])"
   ]
  },
  {
   "cell_type": "code",
   "execution_count": 10,
   "metadata": {},
   "outputs": [
    {
     "output_type": "execute_result",
     "data": {
      "text/plain": [
       "['models\\\\RF_96.joblib']"
      ]
     },
     "metadata": {},
     "execution_count": 10
    }
   ],
   "source": [
    "import joblib\n",
    "joblib.dump(rf, \"models\\\\RF_96.joblib\")"
   ]
  },
  {
   "cell_type": "code",
   "execution_count": null,
   "metadata": {},
   "outputs": [],
   "source": []
  }
 ]
}