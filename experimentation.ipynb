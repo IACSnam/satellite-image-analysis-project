{
 "metadata": {
  "language_info": {
   "codemirror_mode": {
    "name": "ipython",
    "version": 3
   },
   "file_extension": ".py",
   "mimetype": "text/x-python",
   "name": "python",
   "nbconvert_exporter": "python",
   "pygments_lexer": "ipython3",
   "version": "3.9.1-final"
  },
  "orig_nbformat": 2,
  "kernelspec": {
   "name": "python3",
   "display_name": "Python 3.9.1 64-bit",
   "metadata": {
    "interpreter": {
     "hash": "7ddbf317d4840e611b913c2c7743fa92ecf14481dc34890e8aab0a6f555a452d"
    }
   }
  }
 },
 "nbformat": 4,
 "nbformat_minor": 2,
 "cells": [
  {
   "source": [
    "This is me following instructions given to me so I could understand my topic through practice."
   ],
   "cell_type": "markdown",
   "metadata": {}
  },
  {
   "source": [
    "#Import statements\n",
    "from osgeo import ogr, gdal, gdal_array\n",
    "import numpy as np\n",
    "import matplotlib.pyplot as plt\n",
    "%matplotlib inline"
   ],
   "cell_type": "code",
   "metadata": {},
   "execution_count": 1,
   "outputs": []
  },
  {
   "cell_type": "code",
   "execution_count": 2,
   "metadata": {},
   "outputs": [],
   "source": [
    "#Find image dataset\n",
    "#Get images in and processed\n",
    "#Split image data into inputs and outputs\n",
    "#Split into training set and testing set\n",
    "#Train model\n",
    "#Stonks"
   ]
  },
  {
   "cell_type": "code",
   "execution_count": 3,
   "metadata": {},
   "outputs": [],
   "source": [
    "#global directories\n",
    "source_path = 'E:\\\\ML\\\\satellite-image-analysis\\\\Satellite-image-sp\\\\sources'"
   ]
  },
  {
   "cell_type": "code",
   "execution_count": 4,
   "metadata": {},
   "outputs": [
    {
     "output_type": "stream",
     "name": "stdout",
     "text": [
      "\tid - Integer64\n"
     ]
    }
   ],
   "source": [
    "#experiment 1 pt 1\n",
    "shapes = ogr.Open(f'{source_path}\\\\1\\\\shapes.shp')\n",
    "vec_layer = shapes.GetLayerByIndex(0)\n",
    "defn = vec_layer.GetLayerDefn()\n",
    "for i in range(defn.GetFieldCount()):\n",
    "    field_defn = defn.GetFieldDefn(i)\n",
    "    print('\\t{name} - {datatype}'.format(name=field_defn.GetName(),\n",
    "                                         datatype=field_defn.GetTypeName()))"
   ]
  },
  {
   "cell_type": "code",
   "execution_count": 5,
   "metadata": {},
   "outputs": [
    {
     "output_type": "stream",
     "name": "stdout",
     "text": [
      "5443, 1453\n"
     ]
    }
   ],
   "source": [
    "#experiment 1 pt 2\n",
    "#open\n",
    "raster = gdal.Open(f'{source_path}\\\\1\\\\img.tif', gdal.GA_ReadOnly)\n",
    "#get relevant attributes\n",
    "ncol = raster.RasterXSize\n",
    "nrow = raster.RasterYSize\n",
    "proj = raster.GetProjectionRef()\n",
    "ext = raster.GetGeoTransform()\n",
    "#close file data to save space\n",
    "raster = None\n",
    "print(f'{ncol}, {nrow}')"
   ]
  },
  {
   "cell_type": "code",
   "execution_count": 6,
   "metadata": {},
   "outputs": [],
   "source": [
    "#experiment 1 pt 3\n",
    "# Create the raster dataset\n",
    "memory_driver = gdal.GetDriverByName('GTiff')\n",
    "out_raster_ds = memory_driver.Create(f'{source_path}\\\\1\\\\training.tif', ncol, nrow, 1, gdal.GDT_Byte)\n",
    "# Set the ROI projection and extent to match input\n",
    "out_raster_ds.SetProjection(proj)\n",
    "out_raster_ds.SetGeoTransform(ext)\n",
    "# Fill output band with 0 blank, no class label, value\n",
    "b = out_raster_ds.GetRasterBand(1)\n",
    "b.Fill(0)\n",
    "# Rasterize the shapefile layer\n",
    "status = gdal.RasterizeLayer(out_raster_ds,  #output\n",
    "                             [1],  #first band\n",
    "                             vec_layer,  #referenced layer layer\n",
    "                             None, None,  #No transforms\n",
    "                             [0],  #burn value 0\n",
    "                             ['ALL_TOUCHED=TRUE',  #rasterize all pixels touched by polygons\n",
    "                              'ATTRIBUTE=id']  #match raster values to SHP ID values\n",
    "                             )\n",
    "# Close dataset\n",
    "out_raster_ds = None"
   ]
  },
  {
   "cell_type": "code",
   "execution_count": 7,
   "metadata": {},
   "outputs": [
    {
     "output_type": "stream",
     "name": "stdout",
     "text": [
      "Class 0 contains 6433814 pixels\nClass 1 contains 1072085 pixels\nClass 2 contains 320974 pixels\nClass 4 contains 81806 pixels\n"
     ]
    }
   ],
   "source": [
    "# Check ROI\n",
    "roi_ds = gdal.Open(f'{source_path}\\\\1\\\\training.tif', gdal.GA_ReadOnly)\n",
    "roi = roi_ds.GetRasterBand(1).ReadAsArray()\n",
    "#Get list of pixels per class\n",
    "classes = np.unique(roi)\n",
    "#Print data\n",
    "for c in classes:\n",
    "    print('Class {c} contains {n} pixels'.format(c=c, n=(roi == c).sum()))"
   ]
  },
  {
   "cell_type": "code",
   "execution_count": 8,
   "metadata": {},
   "outputs": [
    {
     "output_type": "display_data",
     "data": {
      "text/plain": "<Figure size 432x288 with 4 Axes>",
      "image/svg+xml": "<?xml version=\"1.0\" encoding=\"utf-8\" standalone=\"no\"?>\r\n<!DOCTYPE svg PUBLIC \"-//W3C//DTD SVG 1.1//EN\"\r\n  \"http://www.w3.org/Graphics/SVG/1.1/DTD/svg11.dtd\">\r\n<!-- Created with matplotlib (https://matplotlib.org/) -->\r\n<svg height=\"65.625449pt\" version=\"1.1\" viewBox=\"0 0 397.731508 65.625449\" width=\"397.731508pt\" xmlns=\"http://www.w3.org/2000/svg\" xmlns:xlink=\"http://www.w3.org/1999/xlink\">\r\n <metadata>\r\n  <rdf:RDF xmlns:cc=\"http://creativecommons.org/ns#\" xmlns:dc=\"http://purl.org/dc/elements/1.1/\" xmlns:rdf=\"http://www.w3.org/1999/02/22-rdf-syntax-ns#\">\r\n   <cc:Work>\r\n    <dc:type rdf:resource=\"http://purl.org/dc/dcmitype/StillImage\"/>\r\n    <dc:date>2021-03-22T08:46:32.738868</dc:date>\r\n    <dc:format>image/svg+xml</dc:format>\r\n    <dc:creator>\r\n     <cc:Agent>\r\n      <dc:title>Matplotlib v3.3.3, https://matplotlib.org/</dc:title>\r\n     </cc:Agent>\r\n    </dc:creator>\r\n   </cc:Work>\r\n  </rdf:RDF>\r\n </metadata>\r\n <defs>\r\n  <style type=\"text/css\">*{stroke-linecap:butt;stroke-linejoin:round;}</style>\r\n </defs>\r\n <g id=\"figure_1\">\r\n  <g id=\"patch_1\">\r\n   <path d=\"M -0 65.625449 \r\nL 397.731508 65.625449 \r\nL 397.731508 0 \r\nL -0 0 \r\nz\r\n\" style=\"fill:none;\"/>\r\n  </g>\r\n  <g id=\"axes_1\">\r\n   <g id=\"patch_2\">\r\n    <path d=\"M 39.65 41.747324 \r\nL 112.432609 41.747324 \r\nL 112.432609 22.318125 \r\nL 39.65 22.318125 \r\nz\r\n\" style=\"fill:#ffffff;\"/>\r\n   </g>\r\n   <g clip-path=\"url(#p7e021edceb)\">\r\n    <image height=\"20\" id=\"imagea843960ba7\" transform=\"scale(1 -1)translate(0 -20)\" width=\"73\" x=\"39.65\" xlink:href=\"data:image/png;base64,\r\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\" y=\"-21.747324\"/>\r\n   </g>\r\n   <g id=\"matplotlib.axis_1\">\r\n    <g id=\"xtick_1\">\r\n     <g id=\"line2d_1\">\r\n      <defs>\r\n       <path d=\"M 0 0 \r\nL 0 3.5 \r\n\" id=\"m707fbe5125\" style=\"stroke:#000000;stroke-width:0.8;\"/>\r\n      </defs>\r\n      <g>\r\n       <use style=\"stroke:#000000;stroke-width:0.8;\" x=\"39.656686\" xlink:href=\"#m707fbe5125\" y=\"41.747324\"/>\r\n      </g>\r\n     </g>\r\n     <g id=\"text_1\">\r\n      <!-- 0 -->\r\n      <g transform=\"translate(36.475436 56.345762)scale(0.1 -0.1)\">\r\n       <defs>\r\n        <path d=\"M 31.78125 66.40625 \r\nQ 24.171875 66.40625 20.328125 58.90625 \r\nQ 16.5 51.421875 16.5 36.375 \r\nQ 16.5 21.390625 20.328125 13.890625 \r\nQ 24.171875 6.390625 31.78125 6.390625 \r\nQ 39.453125 6.390625 43.28125 13.890625 \r\nQ 47.125 21.390625 47.125 36.375 \r\nQ 47.125 51.421875 43.28125 58.90625 \r\nQ 39.453125 66.40625 31.78125 66.40625 \r\nz\r\nM 31.78125 74.21875 \r\nQ 44.046875 74.21875 50.515625 64.515625 \r\nQ 56.984375 54.828125 56.984375 36.375 \r\nQ 56.984375 17.96875 50.515625 8.265625 \r\nQ 44.046875 -1.421875 31.78125 -1.421875 \r\nQ 19.53125 -1.421875 13.0625 8.265625 \r\nQ 6.59375 17.96875 6.59375 36.375 \r\nQ 6.59375 54.828125 13.0625 64.515625 \r\nQ 19.53125 74.21875 31.78125 74.21875 \r\nz\r\n\" id=\"DejaVuSans-48\"/>\r\n       </defs>\r\n       <use xlink:href=\"#DejaVuSans-48\"/>\r\n      </g>\r\n     </g>\r\n    </g>\r\n    <g id=\"xtick_2\">\r\n     <g id=\"line2d_2\">\r\n      <g>\r\n       <use style=\"stroke:#000000;stroke-width:0.8;\" x=\"106.515595\" xlink:href=\"#m707fbe5125\" y=\"41.747324\"/>\r\n      </g>\r\n     </g>\r\n     <g id=\"text_2\">\r\n      <!-- 5000 -->\r\n      <g transform=\"translate(93.790595 56.345762)scale(0.1 -0.1)\">\r\n       <defs>\r\n        <path d=\"M 10.796875 72.90625 \r\nL 49.515625 72.90625 \r\nL 49.515625 64.59375 \r\nL 19.828125 64.59375 \r\nL 19.828125 46.734375 \r\nQ 21.96875 47.46875 24.109375 47.828125 \r\nQ 26.265625 48.1875 28.421875 48.1875 \r\nQ 40.625 48.1875 47.75 41.5 \r\nQ 54.890625 34.8125 54.890625 23.390625 \r\nQ 54.890625 11.625 47.5625 5.09375 \r\nQ 40.234375 -1.421875 26.90625 -1.421875 \r\nQ 22.3125 -1.421875 17.546875 -0.640625 \r\nQ 12.796875 0.140625 7.71875 1.703125 \r\nL 7.71875 11.625 \r\nQ 12.109375 9.234375 16.796875 8.0625 \r\nQ 21.484375 6.890625 26.703125 6.890625 \r\nQ 35.15625 6.890625 40.078125 11.328125 \r\nQ 45.015625 15.765625 45.015625 23.390625 \r\nQ 45.015625 31 40.078125 35.4375 \r\nQ 35.15625 39.890625 26.703125 39.890625 \r\nQ 22.75 39.890625 18.8125 39.015625 \r\nQ 14.890625 38.140625 10.796875 36.28125 \r\nz\r\n\" id=\"DejaVuSans-53\"/>\r\n       </defs>\r\n       <use xlink:href=\"#DejaVuSans-53\"/>\r\n       <use x=\"63.623047\" xlink:href=\"#DejaVuSans-48\"/>\r\n       <use x=\"127.246094\" xlink:href=\"#DejaVuSans-48\"/>\r\n       <use x=\"190.869141\" xlink:href=\"#DejaVuSans-48\"/>\r\n      </g>\r\n     </g>\r\n    </g>\r\n   </g>\r\n   <g id=\"matplotlib.axis_2\">\r\n    <g id=\"ytick_1\">\r\n     <g id=\"line2d_3\">\r\n      <defs>\r\n       <path d=\"M 0 0 \r\nL -3.5 0 \r\n\" id=\"m9acf8df154\" style=\"stroke:#000000;stroke-width:0.8;\"/>\r\n      </defs>\r\n      <g>\r\n       <use style=\"stroke:#000000;stroke-width:0.8;\" x=\"39.65\" xlink:href=\"#m9acf8df154\" y=\"22.324811\"/>\r\n      </g>\r\n     </g>\r\n     <g id=\"text_3\">\r\n      <!-- 0 -->\r\n      <g transform=\"translate(26.2875 26.12403)scale(0.1 -0.1)\">\r\n       <use xlink:href=\"#DejaVuSans-48\"/>\r\n      </g>\r\n     </g>\r\n    </g>\r\n    <g id=\"ytick_2\">\r\n     <g id=\"line2d_4\">\r\n      <g>\r\n       <use style=\"stroke:#000000;stroke-width:0.8;\" x=\"39.65\" xlink:href=\"#m9acf8df154\" y=\"35.696593\"/>\r\n      </g>\r\n     </g>\r\n     <g id=\"text_4\">\r\n      <!-- 1000 -->\r\n      <g transform=\"translate(7.2 39.495812)scale(0.1 -0.1)\">\r\n       <defs>\r\n        <path d=\"M 12.40625 8.296875 \r\nL 28.515625 8.296875 \r\nL 28.515625 63.921875 \r\nL 10.984375 60.40625 \r\nL 10.984375 69.390625 \r\nL 28.421875 72.90625 \r\nL 38.28125 72.90625 \r\nL 38.28125 8.296875 \r\nL 54.390625 8.296875 \r\nL 54.390625 0 \r\nL 12.40625 0 \r\nz\r\n\" id=\"DejaVuSans-49\"/>\r\n       </defs>\r\n       <use xlink:href=\"#DejaVuSans-49\"/>\r\n       <use x=\"63.623047\" xlink:href=\"#DejaVuSans-48\"/>\r\n       <use x=\"127.246094\" xlink:href=\"#DejaVuSans-48\"/>\r\n       <use x=\"190.869141\" xlink:href=\"#DejaVuSans-48\"/>\r\n      </g>\r\n     </g>\r\n    </g>\r\n   </g>\r\n   <g id=\"patch_3\">\r\n    <path d=\"M 39.65 41.747324 \r\nL 39.65 22.318125 \r\n\" style=\"fill:none;stroke:#000000;stroke-linecap:square;stroke-linejoin:miter;stroke-width:0.8;\"/>\r\n   </g>\r\n   <g id=\"patch_4\">\r\n    <path d=\"M 112.432609 41.747324 \r\nL 112.432609 22.318125 \r\n\" style=\"fill:none;stroke:#000000;stroke-linecap:square;stroke-linejoin:miter;stroke-width:0.8;\"/>\r\n   </g>\r\n   <g id=\"patch_5\">\r\n    <path d=\"M 39.65 41.747324 \r\nL 112.432609 41.747324 \r\n\" style=\"fill:none;stroke:#000000;stroke-linecap:square;stroke-linejoin:miter;stroke-width:0.8;\"/>\r\n   </g>\r\n   <g id=\"patch_6\">\r\n    <path d=\"M 39.65 22.318125 \r\nL 112.432609 22.318125 \r\n\" style=\"fill:none;stroke:#000000;stroke-linecap:square;stroke-linejoin:miter;stroke-width:0.8;\"/>\r\n   </g>\r\n   <g id=\"text_5\">\r\n    <!-- TEST1R -->\r\n    <g transform=\"translate(53.125054 16.318125)scale(0.12 -0.12)\">\r\n     <defs>\r\n      <path d=\"M -0.296875 72.90625 \r\nL 61.375 72.90625 \r\nL 61.375 64.59375 \r\nL 35.5 64.59375 \r\nL 35.5 0 \r\nL 25.59375 0 \r\nL 25.59375 64.59375 \r\nL -0.296875 64.59375 \r\nz\r\n\" id=\"DejaVuSans-84\"/>\r\n      <path d=\"M 9.8125 72.90625 \r\nL 55.90625 72.90625 \r\nL 55.90625 64.59375 \r\nL 19.671875 64.59375 \r\nL 19.671875 43.015625 \r\nL 54.390625 43.015625 \r\nL 54.390625 34.71875 \r\nL 19.671875 34.71875 \r\nL 19.671875 8.296875 \r\nL 56.78125 8.296875 \r\nL 56.78125 0 \r\nL 9.8125 0 \r\nz\r\n\" id=\"DejaVuSans-69\"/>\r\n      <path d=\"M 53.515625 70.515625 \r\nL 53.515625 60.890625 \r\nQ 47.90625 63.578125 42.921875 64.890625 \r\nQ 37.9375 66.21875 33.296875 66.21875 \r\nQ 25.25 66.21875 20.875 63.09375 \r\nQ 16.5 59.96875 16.5 54.203125 \r\nQ 16.5 49.359375 19.40625 46.890625 \r\nQ 22.3125 44.4375 30.421875 42.921875 \r\nL 36.375 41.703125 \r\nQ 47.40625 39.59375 52.65625 34.296875 \r\nQ 57.90625 29 57.90625 20.125 \r\nQ 57.90625 9.515625 50.796875 4.046875 \r\nQ 43.703125 -1.421875 29.984375 -1.421875 \r\nQ 24.8125 -1.421875 18.96875 -0.25 \r\nQ 13.140625 0.921875 6.890625 3.21875 \r\nL 6.890625 13.375 \r\nQ 12.890625 10.015625 18.65625 8.296875 \r\nQ 24.421875 6.59375 29.984375 6.59375 \r\nQ 38.421875 6.59375 43.015625 9.90625 \r\nQ 47.609375 13.234375 47.609375 19.390625 \r\nQ 47.609375 24.75 44.3125 27.78125 \r\nQ 41.015625 30.8125 33.5 32.328125 \r\nL 27.484375 33.5 \r\nQ 16.453125 35.6875 11.515625 40.375 \r\nQ 6.59375 45.0625 6.59375 53.421875 \r\nQ 6.59375 63.09375 13.40625 68.65625 \r\nQ 20.21875 74.21875 32.171875 74.21875 \r\nQ 37.3125 74.21875 42.625 73.28125 \r\nQ 47.953125 72.359375 53.515625 70.515625 \r\nz\r\n\" id=\"DejaVuSans-83\"/>\r\n      <path d=\"M 44.390625 34.1875 \r\nQ 47.5625 33.109375 50.5625 29.59375 \r\nQ 53.5625 26.078125 56.59375 19.921875 \r\nL 66.609375 0 \r\nL 56 0 \r\nL 46.6875 18.703125 \r\nQ 43.0625 26.03125 39.671875 28.421875 \r\nQ 36.28125 30.8125 30.421875 30.8125 \r\nL 19.671875 30.8125 \r\nL 19.671875 0 \r\nL 9.8125 0 \r\nL 9.8125 72.90625 \r\nL 32.078125 72.90625 \r\nQ 44.578125 72.90625 50.734375 67.671875 \r\nQ 56.890625 62.453125 56.890625 51.90625 \r\nQ 56.890625 45.015625 53.6875 40.46875 \r\nQ 50.484375 35.9375 44.390625 34.1875 \r\nz\r\nM 19.671875 64.796875 \r\nL 19.671875 38.921875 \r\nL 32.078125 38.921875 \r\nQ 39.203125 38.921875 42.84375 42.21875 \r\nQ 46.484375 45.515625 46.484375 51.90625 \r\nQ 46.484375 58.296875 42.84375 61.546875 \r\nQ 39.203125 64.796875 32.078125 64.796875 \r\nz\r\n\" id=\"DejaVuSans-82\"/>\r\n     </defs>\r\n     <use xlink:href=\"#DejaVuSans-84\"/>\r\n     <use x=\"61.083984\" xlink:href=\"#DejaVuSans-69\"/>\r\n     <use x=\"124.267578\" xlink:href=\"#DejaVuSans-83\"/>\r\n     <use x=\"187.744141\" xlink:href=\"#DejaVuSans-84\"/>\r\n     <use x=\"248.828125\" xlink:href=\"#DejaVuSans-49\"/>\r\n     <use x=\"312.451172\" xlink:href=\"#DejaVuSans-82\"/>\r\n    </g>\r\n   </g>\r\n  </g>\r\n  <g id=\"axes_2\">\r\n   <g id=\"patch_7\">\r\n    <path d=\"M 126.98913 41.747324 \r\nL 199.771739 41.747324 \r\nL 199.771739 22.318125 \r\nL 126.98913 22.318125 \r\nz\r\n\" style=\"fill:#ffffff;\"/>\r\n   </g>\r\n   <g clip-path=\"url(#pa6706d65dd)\">\r\n    <image height=\"20\" id=\"image4ebbbfad45\" transform=\"scale(1 -1)translate(0 -20)\" width=\"73\" x=\"126.98913\" xlink:href=\"data:image/png;base64,\r\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\" y=\"-21.747324\"/>\r\n   </g>\r\n   <g id=\"matplotlib.axis_3\">\r\n    <g id=\"xtick_3\">\r\n     <g id=\"line2d_5\">\r\n      <g>\r\n       <use style=\"stroke:#000000;stroke-width:0.8;\" x=\"126.995816\" xlink:href=\"#m707fbe5125\" y=\"41.747324\"/>\r\n      </g>\r\n     </g>\r\n     <g id=\"text_6\">\r\n      <!-- 0 -->\r\n      <g transform=\"translate(123.814566 56.345762)scale(0.1 -0.1)\">\r\n       <use xlink:href=\"#DejaVuSans-48\"/>\r\n      </g>\r\n     </g>\r\n    </g>\r\n    <g id=\"xtick_4\">\r\n     <g id=\"line2d_6\">\r\n      <g>\r\n       <use style=\"stroke:#000000;stroke-width:0.8;\" x=\"193.854726\" xlink:href=\"#m707fbe5125\" y=\"41.747324\"/>\r\n      </g>\r\n     </g>\r\n     <g id=\"text_7\">\r\n      <!-- 5000 -->\r\n      <g transform=\"translate(181.129726 56.345762)scale(0.1 -0.1)\">\r\n       <use xlink:href=\"#DejaVuSans-53\"/>\r\n       <use x=\"63.623047\" xlink:href=\"#DejaVuSans-48\"/>\r\n       <use x=\"127.246094\" xlink:href=\"#DejaVuSans-48\"/>\r\n       <use x=\"190.869141\" xlink:href=\"#DejaVuSans-48\"/>\r\n      </g>\r\n     </g>\r\n    </g>\r\n   </g>\r\n   <g id=\"matplotlib.axis_4\">\r\n    <g id=\"ytick_3\">\r\n     <g id=\"line2d_7\">\r\n      <g>\r\n       <use style=\"stroke:#000000;stroke-width:0.8;\" x=\"126.98913\" xlink:href=\"#m9acf8df154\" y=\"22.324811\"/>\r\n      </g>\r\n     </g>\r\n     <g id=\"text_8\">\r\n      <!-- 0 -->\r\n      <g transform=\"translate(113.62663 26.12403)scale(0.1 -0.1)\">\r\n       <use xlink:href=\"#DejaVuSans-48\"/>\r\n      </g>\r\n     </g>\r\n    </g>\r\n    <g id=\"ytick_4\">\r\n     <g id=\"line2d_8\">\r\n      <g>\r\n       <use style=\"stroke:#000000;stroke-width:0.8;\" x=\"126.98913\" xlink:href=\"#m9acf8df154\" y=\"35.696593\"/>\r\n      </g>\r\n     </g>\r\n     <g id=\"text_9\">\r\n      <!-- 1000 -->\r\n      <g transform=\"translate(94.53913 39.495812)scale(0.1 -0.1)\">\r\n       <use xlink:href=\"#DejaVuSans-49\"/>\r\n       <use x=\"63.623047\" xlink:href=\"#DejaVuSans-48\"/>\r\n       <use x=\"127.246094\" xlink:href=\"#DejaVuSans-48\"/>\r\n       <use x=\"190.869141\" xlink:href=\"#DejaVuSans-48\"/>\r\n      </g>\r\n     </g>\r\n    </g>\r\n   </g>\r\n   <g id=\"patch_8\">\r\n    <path d=\"M 126.98913 41.747324 \r\nL 126.98913 22.318125 \r\n\" style=\"fill:none;stroke:#000000;stroke-linecap:square;stroke-linejoin:miter;stroke-width:0.8;\"/>\r\n   </g>\r\n   <g id=\"patch_9\">\r\n    <path d=\"M 199.771739 41.747324 \r\nL 199.771739 22.318125 \r\n\" style=\"fill:none;stroke:#000000;stroke-linecap:square;stroke-linejoin:miter;stroke-width:0.8;\"/>\r\n   </g>\r\n   <g id=\"patch_10\">\r\n    <path d=\"M 126.98913 41.747324 \r\nL 199.771739 41.747324 \r\n\" style=\"fill:none;stroke:#000000;stroke-linecap:square;stroke-linejoin:miter;stroke-width:0.8;\"/>\r\n   </g>\r\n   <g id=\"patch_11\">\r\n    <path d=\"M 126.98913 22.318125 \r\nL 199.771739 22.318125 \r\n\" style=\"fill:none;stroke:#000000;stroke-linecap:square;stroke-linejoin:miter;stroke-width:0.8;\"/>\r\n   </g>\r\n   <g id=\"text_10\">\r\n    <!-- TEST1G -->\r\n    <g transform=\"translate(139.984185 16.318125)scale(0.12 -0.12)\">\r\n     <defs>\r\n      <path d=\"M 59.515625 10.40625 \r\nL 59.515625 29.984375 \r\nL 43.40625 29.984375 \r\nL 43.40625 38.09375 \r\nL 69.28125 38.09375 \r\nL 69.28125 6.78125 \r\nQ 63.578125 2.734375 56.6875 0.65625 \r\nQ 49.8125 -1.421875 42 -1.421875 \r\nQ 24.90625 -1.421875 15.25 8.5625 \r\nQ 5.609375 18.5625 5.609375 36.375 \r\nQ 5.609375 54.25 15.25 64.234375 \r\nQ 24.90625 74.21875 42 74.21875 \r\nQ 49.125 74.21875 55.546875 72.453125 \r\nQ 61.96875 70.703125 67.390625 67.28125 \r\nL 67.390625 56.78125 \r\nQ 61.921875 61.421875 55.765625 63.765625 \r\nQ 49.609375 66.109375 42.828125 66.109375 \r\nQ 29.4375 66.109375 22.71875 58.640625 \r\nQ 16.015625 51.171875 16.015625 36.375 \r\nQ 16.015625 21.625 22.71875 14.15625 \r\nQ 29.4375 6.6875 42.828125 6.6875 \r\nQ 48.046875 6.6875 52.140625 7.59375 \r\nQ 56.25 8.5 59.515625 10.40625 \r\nz\r\n\" id=\"DejaVuSans-71\"/>\r\n     </defs>\r\n     <use xlink:href=\"#DejaVuSans-84\"/>\r\n     <use x=\"61.083984\" xlink:href=\"#DejaVuSans-69\"/>\r\n     <use x=\"124.267578\" xlink:href=\"#DejaVuSans-83\"/>\r\n     <use x=\"187.744141\" xlink:href=\"#DejaVuSans-84\"/>\r\n     <use x=\"248.828125\" xlink:href=\"#DejaVuSans-49\"/>\r\n     <use x=\"312.451172\" xlink:href=\"#DejaVuSans-71\"/>\r\n    </g>\r\n   </g>\r\n  </g>\r\n  <g id=\"axes_3\">\r\n   <g id=\"patch_12\">\r\n    <path d=\"M 214.328261 41.747324 \r\nL 287.11087 41.747324 \r\nL 287.11087 22.318125 \r\nL 214.328261 22.318125 \r\nz\r\n\" style=\"fill:#ffffff;\"/>\r\n   </g>\r\n   <g clip-path=\"url(#peab197c2e7)\">\r\n    <image height=\"20\" id=\"image7c24a08060\" transform=\"scale(1 -1)translate(0 -20)\" width=\"73\" x=\"214.328261\" xlink:href=\"data:image/png;base64,\r\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\" y=\"-21.747324\"/>\r\n   </g>\r\n   <g id=\"matplotlib.axis_5\">\r\n    <g id=\"xtick_5\">\r\n     <g id=\"line2d_9\">\r\n      <g>\r\n       <use style=\"stroke:#000000;stroke-width:0.8;\" x=\"214.334947\" xlink:href=\"#m707fbe5125\" y=\"41.747324\"/>\r\n      </g>\r\n     </g>\r\n     <g id=\"text_11\">\r\n      <!-- 0 -->\r\n      <g transform=\"translate(211.153697 56.345762)scale(0.1 -0.1)\">\r\n       <use xlink:href=\"#DejaVuSans-48\"/>\r\n      </g>\r\n     </g>\r\n    </g>\r\n    <g id=\"xtick_6\">\r\n     <g id=\"line2d_10\">\r\n      <g>\r\n       <use style=\"stroke:#000000;stroke-width:0.8;\" x=\"281.193856\" xlink:href=\"#m707fbe5125\" y=\"41.747324\"/>\r\n      </g>\r\n     </g>\r\n     <g id=\"text_12\">\r\n      <!-- 5000 -->\r\n      <g transform=\"translate(268.468856 56.345762)scale(0.1 -0.1)\">\r\n       <use xlink:href=\"#DejaVuSans-53\"/>\r\n       <use x=\"63.623047\" xlink:href=\"#DejaVuSans-48\"/>\r\n       <use x=\"127.246094\" xlink:href=\"#DejaVuSans-48\"/>\r\n       <use x=\"190.869141\" xlink:href=\"#DejaVuSans-48\"/>\r\n      </g>\r\n     </g>\r\n    </g>\r\n   </g>\r\n   <g id=\"matplotlib.axis_6\">\r\n    <g id=\"ytick_5\">\r\n     <g id=\"line2d_11\">\r\n      <g>\r\n       <use style=\"stroke:#000000;stroke-width:0.8;\" x=\"214.328261\" xlink:href=\"#m9acf8df154\" y=\"22.324811\"/>\r\n      </g>\r\n     </g>\r\n     <g id=\"text_13\">\r\n      <!-- 0 -->\r\n      <g transform=\"translate(200.965761 26.12403)scale(0.1 -0.1)\">\r\n       <use xlink:href=\"#DejaVuSans-48\"/>\r\n      </g>\r\n     </g>\r\n    </g>\r\n    <g id=\"ytick_6\">\r\n     <g id=\"line2d_12\">\r\n      <g>\r\n       <use style=\"stroke:#000000;stroke-width:0.8;\" x=\"214.328261\" xlink:href=\"#m9acf8df154\" y=\"35.696593\"/>\r\n      </g>\r\n     </g>\r\n     <g id=\"text_14\">\r\n      <!-- 1000 -->\r\n      <g transform=\"translate(181.878261 39.495812)scale(0.1 -0.1)\">\r\n       <use xlink:href=\"#DejaVuSans-49\"/>\r\n       <use x=\"63.623047\" xlink:href=\"#DejaVuSans-48\"/>\r\n       <use x=\"127.246094\" xlink:href=\"#DejaVuSans-48\"/>\r\n       <use x=\"190.869141\" xlink:href=\"#DejaVuSans-48\"/>\r\n      </g>\r\n     </g>\r\n    </g>\r\n   </g>\r\n   <g id=\"patch_13\">\r\n    <path d=\"M 214.328261 41.747324 \r\nL 214.328261 22.318125 \r\n\" style=\"fill:none;stroke:#000000;stroke-linecap:square;stroke-linejoin:miter;stroke-width:0.8;\"/>\r\n   </g>\r\n   <g id=\"patch_14\">\r\n    <path d=\"M 287.11087 41.747324 \r\nL 287.11087 22.318125 \r\n\" style=\"fill:none;stroke:#000000;stroke-linecap:square;stroke-linejoin:miter;stroke-width:0.8;\"/>\r\n   </g>\r\n   <g id=\"patch_15\">\r\n    <path d=\"M 214.328261 41.747324 \r\nL 287.11087 41.747324 \r\n\" style=\"fill:none;stroke:#000000;stroke-linecap:square;stroke-linejoin:miter;stroke-width:0.8;\"/>\r\n   </g>\r\n   <g id=\"patch_16\">\r\n    <path d=\"M 214.328261 22.318125 \r\nL 287.11087 22.318125 \r\n\" style=\"fill:none;stroke:#000000;stroke-linecap:square;stroke-linejoin:miter;stroke-width:0.8;\"/>\r\n   </g>\r\n   <g id=\"text_15\">\r\n    <!-- TEST1B -->\r\n    <g transform=\"translate(227.855815 16.318125)scale(0.12 -0.12)\">\r\n     <defs>\r\n      <path d=\"M 19.671875 34.8125 \r\nL 19.671875 8.109375 \r\nL 35.5 8.109375 \r\nQ 43.453125 8.109375 47.28125 11.40625 \r\nQ 51.125 14.703125 51.125 21.484375 \r\nQ 51.125 28.328125 47.28125 31.5625 \r\nQ 43.453125 34.8125 35.5 34.8125 \r\nz\r\nM 19.671875 64.796875 \r\nL 19.671875 42.828125 \r\nL 34.28125 42.828125 \r\nQ 41.5 42.828125 45.03125 45.53125 \r\nQ 48.578125 48.25 48.578125 53.8125 \r\nQ 48.578125 59.328125 45.03125 62.0625 \r\nQ 41.5 64.796875 34.28125 64.796875 \r\nz\r\nM 9.8125 72.90625 \r\nL 35.015625 72.90625 \r\nQ 46.296875 72.90625 52.390625 68.21875 \r\nQ 58.5 63.53125 58.5 54.890625 \r\nQ 58.5 48.1875 55.375 44.234375 \r\nQ 52.25 40.28125 46.1875 39.3125 \r\nQ 53.46875 37.75 57.5 32.78125 \r\nQ 61.53125 27.828125 61.53125 20.40625 \r\nQ 61.53125 10.640625 54.890625 5.3125 \r\nQ 48.25 0 35.984375 0 \r\nL 9.8125 0 \r\nz\r\n\" id=\"DejaVuSans-66\"/>\r\n     </defs>\r\n     <use xlink:href=\"#DejaVuSans-84\"/>\r\n     <use x=\"61.083984\" xlink:href=\"#DejaVuSans-69\"/>\r\n     <use x=\"124.267578\" xlink:href=\"#DejaVuSans-83\"/>\r\n     <use x=\"187.744141\" xlink:href=\"#DejaVuSans-84\"/>\r\n     <use x=\"248.828125\" xlink:href=\"#DejaVuSans-49\"/>\r\n     <use x=\"312.451172\" xlink:href=\"#DejaVuSans-66\"/>\r\n    </g>\r\n   </g>\r\n  </g>\r\n  <g id=\"axes_4\">\r\n   <g id=\"patch_17\">\r\n    <path d=\"M 301.667391 41.747324 \r\nL 374.45 41.747324 \r\nL 374.45 22.318125 \r\nL 301.667391 22.318125 \r\nz\r\n\" style=\"fill:#ffffff;\"/>\r\n   </g>\r\n   <g clip-path=\"url(#p1992e34e11)\">\r\n    <image height=\"20\" id=\"image74da30326f\" transform=\"scale(1 -1)translate(0 -20)\" width=\"73\" x=\"301.667391\" xlink:href=\"data:image/png;base64,\r\niVBORw0KGgoAAAANSUhEUgAAAEkAAAAUCAYAAADBYxD1AAAFWElEQVR4nNWYeWwUdRTHP3Ps7FVaSlsWqhQIBJEFEagoUEQq2CKHaCFcmhb/wqASoiDGxKgJIUoIZyKaIAYLrQTRBJHbEC6BgBTkFAIFCgVk6bHdozs78/OPgZJ1WYrhaj9/TX557zfz3nzf770Z6TspV5CAIt9k0MN836YkZl2Wwfusix7jbWjjX4InukP1ZcTxMiI7TlPySR0AE79KAUWynAyBWVNP6exwots1WdTGDMS5M5ahKtGjj4tuk+zYxrwMrTtD7TXEiTL00u3cOBji7FGF8jNhema76fVTLpsGbGLw+06M60EClYLfVkYfekAPg7smaX23Yrx9VN4qzkQZMgjSO0DddSsxJVuoOhDgwnEbp0+GiNQLkpIVxi1rizK+ECSFyop1CNOOku5i62I/pvmIonrAxCRJliGro50+QyMkFWYjde8LzmTwXcDcsZNoxUZq//Rz/phGamtBZh+FYyVB8sdpeKZ0RcoeCK5UQCA2r2H4JBt1J0JoToNwKGFVN3lUgP6D3XQscGAblQOeLqCHEeeOoC8voWxZmFPHQkSjApdbJhgwgShF4Q9AmDB7Pm1WzbB2i0ag6iLh+T8iuVRSersxq+vZU6wA9Y8vyvtE2tAuX+SdnQ6+cswde6hY+Q9JrXScrWWUdBerZtbc0XFkocqh7TKGAUNmpxE54UO/EUXL0JBbOWKNDZFwn+aA2u/VKHt6LeLsqTDRqFUSE+e1ROgGe75J3InK/9LIedNETrFjXA2iZLhQMhIY3+pwzRR17bcmEIpZrNhSz+G9EWqqjYSOVy7ppB5UaesNoHjc8QaGQJgmZnU9oSuJ92kOSHebk+4FWQZPpsZL79oRfp1QpU7NFQ1ZFaR3iHC9XGPvtsjNs6x5IsctyJCaptIz+7Y6VFUif5yGZo8vG9OEyooIG+eGWD0nzPXzDjzdo7TJsaO2T8aTrdC7vyPOD8Db00VWR/sDDOfhEDcnjZ2uIrXQOFBqlUjnrg6yx0rILe288XSE0s+CMfZFF14j1KY9f1ytpqrdCrKGyki22wn+eU6IcOjOKvIOCqM+2YJVM5t254tTUkWZnV++DHPmZJhhE2z0fduO3EIDQyDJEiktlQbb5wYksTbSinfG1LJiqrXVxrmx59uAPI2coa7Ym8qg2SXWLDFBkUhNa3Twf6zEPd3ubYGGa4fb4Mquevw+lWCdiaxAixSFmmqDwi1epNzReIXJDxPqSCnxk5qmUuWLYvojVmIBz0Cr1By7wg2KGvuhDcllw6yxFJTV0U6Vr+l+ssivjIk9E2QZCqZYbzccUEjPqqdTrsEzExR6jLfx4lQnANLAfMvh0lGWj7ZKcMmcaXgybVzcGX92vf6xs+F6ezHsX2VyaqeD8l91Dh8IxNk3JdT0fk76+1TK9lvfXwXTFJTMJPJnGEg25Y5OaRkqW59aTI/+gjEvTKfTtmvcaO2idPdCdgQFnk4hMFRrPjJuNk/tdmVfvawD+iMI78Egnc4fIdqPdqGfqWbdUpPRXyQ36iR0g5JZfgC2jyriXLd0Fmz9OkYRvZ5303U4/L40gtMpU+WL3nXuasqomb2imH4dxeMmGKhB6IkVdAvJppCUrFBXa1A5qhWzPl3I4cuxyji0L8CJI3LCztackJUMl1UWisTwSTY2zws17gWM/Mg6Yya/t+Bm+cTz3wQVru9C3ljt/p74MRAzAqT0duOvNRB642UhOVQ0u/S/lCLlFdC2dAZF5cMZmOdq3KGJIAU/HyEkWWpQkwhE2bA4wrCptoROwrASI4JRVi+69yR18TrpV9wbyZsDioo4voudBfs4+3fT/qX7L9vABhOB119MAAAAAElFTkSuQmCC\" y=\"-21.747324\"/>\r\n   </g>\r\n   <g id=\"matplotlib.axis_7\">\r\n    <g id=\"xtick_7\">\r\n     <g id=\"line2d_13\">\r\n      <g>\r\n       <use style=\"stroke:#000000;stroke-width:0.8;\" x=\"301.674077\" xlink:href=\"#m707fbe5125\" y=\"41.747324\"/>\r\n      </g>\r\n     </g>\r\n     <g id=\"text_16\">\r\n      <!-- 0 -->\r\n      <g transform=\"translate(298.492827 56.345762)scale(0.1 -0.1)\">\r\n       <use xlink:href=\"#DejaVuSans-48\"/>\r\n      </g>\r\n     </g>\r\n    </g>\r\n    <g id=\"xtick_8\">\r\n     <g id=\"line2d_14\">\r\n      <g>\r\n       <use style=\"stroke:#000000;stroke-width:0.8;\" x=\"368.532987\" xlink:href=\"#m707fbe5125\" y=\"41.747324\"/>\r\n      </g>\r\n     </g>\r\n     <g id=\"text_17\">\r\n      <!-- 5000 -->\r\n      <g transform=\"translate(355.807987 56.345762)scale(0.1 -0.1)\">\r\n       <use xlink:href=\"#DejaVuSans-53\"/>\r\n       <use x=\"63.623047\" xlink:href=\"#DejaVuSans-48\"/>\r\n       <use x=\"127.246094\" xlink:href=\"#DejaVuSans-48\"/>\r\n       <use x=\"190.869141\" xlink:href=\"#DejaVuSans-48\"/>\r\n      </g>\r\n     </g>\r\n    </g>\r\n   </g>\r\n   <g id=\"matplotlib.axis_8\">\r\n    <g id=\"ytick_7\">\r\n     <g id=\"line2d_15\">\r\n      <g>\r\n       <use style=\"stroke:#000000;stroke-width:0.8;\" x=\"301.667391\" xlink:href=\"#m9acf8df154\" y=\"22.324811\"/>\r\n      </g>\r\n     </g>\r\n     <g id=\"text_18\">\r\n      <!-- 0 -->\r\n      <g transform=\"translate(288.304891 26.12403)scale(0.1 -0.1)\">\r\n       <use xlink:href=\"#DejaVuSans-48\"/>\r\n      </g>\r\n     </g>\r\n    </g>\r\n    <g id=\"ytick_8\">\r\n     <g id=\"line2d_16\">\r\n      <g>\r\n       <use style=\"stroke:#000000;stroke-width:0.8;\" x=\"301.667391\" xlink:href=\"#m9acf8df154\" y=\"35.696593\"/>\r\n      </g>\r\n     </g>\r\n     <g id=\"text_19\">\r\n      <!-- 1000 -->\r\n      <g transform=\"translate(269.217391 39.495812)scale(0.1 -0.1)\">\r\n       <use xlink:href=\"#DejaVuSans-49\"/>\r\n       <use x=\"63.623047\" xlink:href=\"#DejaVuSans-48\"/>\r\n       <use x=\"127.246094\" xlink:href=\"#DejaVuSans-48\"/>\r\n       <use x=\"190.869141\" xlink:href=\"#DejaVuSans-48\"/>\r\n      </g>\r\n     </g>\r\n    </g>\r\n   </g>\r\n   <g id=\"patch_18\">\r\n    <path d=\"M 301.667391 41.747324 \r\nL 301.667391 22.318125 \r\n\" style=\"fill:none;stroke:#000000;stroke-linecap:square;stroke-linejoin:miter;stroke-width:0.8;\"/>\r\n   </g>\r\n   <g id=\"patch_19\">\r\n    <path d=\"M 374.45 41.747324 \r\nL 374.45 22.318125 \r\n\" style=\"fill:none;stroke:#000000;stroke-linecap:square;stroke-linejoin:miter;stroke-width:0.8;\"/>\r\n   </g>\r\n   <g id=\"patch_20\">\r\n    <path d=\"M 301.667391 41.747324 \r\nL 374.45 41.747324 \r\n\" style=\"fill:none;stroke:#000000;stroke-linecap:square;stroke-linejoin:miter;stroke-width:0.8;\"/>\r\n   </g>\r\n   <g id=\"patch_21\">\r\n    <path d=\"M 301.667391 22.318125 \r\nL 374.45 22.318125 \r\n\" style=\"fill:none;stroke:#000000;stroke-linecap:square;stroke-linejoin:miter;stroke-width:0.8;\"/>\r\n   </g>\r\n   <g id=\"text_20\">\r\n    <!-- ROI Training Data -->\r\n    <g transform=\"translate(285.585883 16.318125)scale(0.12 -0.12)\">\r\n     <defs>\r\n      <path d=\"M 39.40625 66.21875 \r\nQ 28.65625 66.21875 22.328125 58.203125 \r\nQ 16.015625 50.203125 16.015625 36.375 \r\nQ 16.015625 22.609375 22.328125 14.59375 \r\nQ 28.65625 6.59375 39.40625 6.59375 \r\nQ 50.140625 6.59375 56.421875 14.59375 \r\nQ 62.703125 22.609375 62.703125 36.375 \r\nQ 62.703125 50.203125 56.421875 58.203125 \r\nQ 50.140625 66.21875 39.40625 66.21875 \r\nz\r\nM 39.40625 74.21875 \r\nQ 54.734375 74.21875 63.90625 63.9375 \r\nQ 73.09375 53.65625 73.09375 36.375 \r\nQ 73.09375 19.140625 63.90625 8.859375 \r\nQ 54.734375 -1.421875 39.40625 -1.421875 \r\nQ 24.03125 -1.421875 14.8125 8.828125 \r\nQ 5.609375 19.09375 5.609375 36.375 \r\nQ 5.609375 53.65625 14.8125 63.9375 \r\nQ 24.03125 74.21875 39.40625 74.21875 \r\nz\r\n\" id=\"DejaVuSans-79\"/>\r\n      <path d=\"M 9.8125 72.90625 \r\nL 19.671875 72.90625 \r\nL 19.671875 0 \r\nL 9.8125 0 \r\nz\r\n\" id=\"DejaVuSans-73\"/>\r\n      <path id=\"DejaVuSans-32\"/>\r\n      <path d=\"M 41.109375 46.296875 \r\nQ 39.59375 47.171875 37.8125 47.578125 \r\nQ 36.03125 48 33.890625 48 \r\nQ 26.265625 48 22.1875 43.046875 \r\nQ 18.109375 38.09375 18.109375 28.8125 \r\nL 18.109375 0 \r\nL 9.078125 0 \r\nL 9.078125 54.6875 \r\nL 18.109375 54.6875 \r\nL 18.109375 46.1875 \r\nQ 20.953125 51.171875 25.484375 53.578125 \r\nQ 30.03125 56 36.53125 56 \r\nQ 37.453125 56 38.578125 55.875 \r\nQ 39.703125 55.765625 41.0625 55.515625 \r\nz\r\n\" id=\"DejaVuSans-114\"/>\r\n      <path d=\"M 34.28125 27.484375 \r\nQ 23.390625 27.484375 19.1875 25 \r\nQ 14.984375 22.515625 14.984375 16.5 \r\nQ 14.984375 11.71875 18.140625 8.90625 \r\nQ 21.296875 6.109375 26.703125 6.109375 \r\nQ 34.1875 6.109375 38.703125 11.40625 \r\nQ 43.21875 16.703125 43.21875 25.484375 \r\nL 43.21875 27.484375 \r\nz\r\nM 52.203125 31.203125 \r\nL 52.203125 0 \r\nL 43.21875 0 \r\nL 43.21875 8.296875 \r\nQ 40.140625 3.328125 35.546875 0.953125 \r\nQ 30.953125 -1.421875 24.3125 -1.421875 \r\nQ 15.921875 -1.421875 10.953125 3.296875 \r\nQ 6 8.015625 6 15.921875 \r\nQ 6 25.140625 12.171875 29.828125 \r\nQ 18.359375 34.515625 30.609375 34.515625 \r\nL 43.21875 34.515625 \r\nL 43.21875 35.40625 \r\nQ 43.21875 41.609375 39.140625 45 \r\nQ 35.0625 48.390625 27.6875 48.390625 \r\nQ 23 48.390625 18.546875 47.265625 \r\nQ 14.109375 46.140625 10.015625 43.890625 \r\nL 10.015625 52.203125 \r\nQ 14.9375 54.109375 19.578125 55.046875 \r\nQ 24.21875 56 28.609375 56 \r\nQ 40.484375 56 46.34375 49.84375 \r\nQ 52.203125 43.703125 52.203125 31.203125 \r\nz\r\n\" id=\"DejaVuSans-97\"/>\r\n      <path d=\"M 9.421875 54.6875 \r\nL 18.40625 54.6875 \r\nL 18.40625 0 \r\nL 9.421875 0 \r\nz\r\nM 9.421875 75.984375 \r\nL 18.40625 75.984375 \r\nL 18.40625 64.59375 \r\nL 9.421875 64.59375 \r\nz\r\n\" id=\"DejaVuSans-105\"/>\r\n      <path d=\"M 54.890625 33.015625 \r\nL 54.890625 0 \r\nL 45.90625 0 \r\nL 45.90625 32.71875 \r\nQ 45.90625 40.484375 42.875 44.328125 \r\nQ 39.84375 48.1875 33.796875 48.1875 \r\nQ 26.515625 48.1875 22.3125 43.546875 \r\nQ 18.109375 38.921875 18.109375 30.90625 \r\nL 18.109375 0 \r\nL 9.078125 0 \r\nL 9.078125 54.6875 \r\nL 18.109375 54.6875 \r\nL 18.109375 46.1875 \r\nQ 21.34375 51.125 25.703125 53.5625 \r\nQ 30.078125 56 35.796875 56 \r\nQ 45.21875 56 50.046875 50.171875 \r\nQ 54.890625 44.34375 54.890625 33.015625 \r\nz\r\n\" id=\"DejaVuSans-110\"/>\r\n      <path d=\"M 45.40625 27.984375 \r\nQ 45.40625 37.75 41.375 43.109375 \r\nQ 37.359375 48.484375 30.078125 48.484375 \r\nQ 22.859375 48.484375 18.828125 43.109375 \r\nQ 14.796875 37.75 14.796875 27.984375 \r\nQ 14.796875 18.265625 18.828125 12.890625 \r\nQ 22.859375 7.515625 30.078125 7.515625 \r\nQ 37.359375 7.515625 41.375 12.890625 \r\nQ 45.40625 18.265625 45.40625 27.984375 \r\nz\r\nM 54.390625 6.78125 \r\nQ 54.390625 -7.171875 48.1875 -13.984375 \r\nQ 42 -20.796875 29.203125 -20.796875 \r\nQ 24.46875 -20.796875 20.265625 -20.09375 \r\nQ 16.0625 -19.390625 12.109375 -17.921875 \r\nL 12.109375 -9.1875 \r\nQ 16.0625 -11.328125 19.921875 -12.34375 \r\nQ 23.78125 -13.375 27.78125 -13.375 \r\nQ 36.625 -13.375 41.015625 -8.765625 \r\nQ 45.40625 -4.15625 45.40625 5.171875 \r\nL 45.40625 9.625 \r\nQ 42.625 4.78125 38.28125 2.390625 \r\nQ 33.9375 0 27.875 0 \r\nQ 17.828125 0 11.671875 7.65625 \r\nQ 5.515625 15.328125 5.515625 27.984375 \r\nQ 5.515625 40.671875 11.671875 48.328125 \r\nQ 17.828125 56 27.875 56 \r\nQ 33.9375 56 38.28125 53.609375 \r\nQ 42.625 51.21875 45.40625 46.390625 \r\nL 45.40625 54.6875 \r\nL 54.390625 54.6875 \r\nz\r\n\" id=\"DejaVuSans-103\"/>\r\n      <path d=\"M 19.671875 64.796875 \r\nL 19.671875 8.109375 \r\nL 31.59375 8.109375 \r\nQ 46.6875 8.109375 53.6875 14.9375 \r\nQ 60.6875 21.78125 60.6875 36.53125 \r\nQ 60.6875 51.171875 53.6875 57.984375 \r\nQ 46.6875 64.796875 31.59375 64.796875 \r\nz\r\nM 9.8125 72.90625 \r\nL 30.078125 72.90625 \r\nQ 51.265625 72.90625 61.171875 64.09375 \r\nQ 71.09375 55.28125 71.09375 36.53125 \r\nQ 71.09375 17.671875 61.125 8.828125 \r\nQ 51.171875 0 30.078125 0 \r\nL 9.8125 0 \r\nz\r\n\" id=\"DejaVuSans-68\"/>\r\n      <path d=\"M 18.3125 70.21875 \r\nL 18.3125 54.6875 \r\nL 36.8125 54.6875 \r\nL 36.8125 47.703125 \r\nL 18.3125 47.703125 \r\nL 18.3125 18.015625 \r\nQ 18.3125 11.328125 20.140625 9.421875 \r\nQ 21.96875 7.515625 27.59375 7.515625 \r\nL 36.8125 7.515625 \r\nL 36.8125 0 \r\nL 27.59375 0 \r\nQ 17.1875 0 13.234375 3.875 \r\nQ 9.28125 7.765625 9.28125 18.015625 \r\nL 9.28125 47.703125 \r\nL 2.6875 47.703125 \r\nL 2.6875 54.6875 \r\nL 9.28125 54.6875 \r\nL 9.28125 70.21875 \r\nz\r\n\" id=\"DejaVuSans-116\"/>\r\n     </defs>\r\n     <use xlink:href=\"#DejaVuSans-82\"/>\r\n     <use x=\"69.482422\" xlink:href=\"#DejaVuSans-79\"/>\r\n     <use x=\"148.193359\" xlink:href=\"#DejaVuSans-73\"/>\r\n     <use x=\"177.685547\" xlink:href=\"#DejaVuSans-32\"/>\r\n     <use x=\"209.472656\" xlink:href=\"#DejaVuSans-84\"/>\r\n     <use x=\"255.806641\" xlink:href=\"#DejaVuSans-114\"/>\r\n     <use x=\"296.919922\" xlink:href=\"#DejaVuSans-97\"/>\r\n     <use x=\"358.199219\" xlink:href=\"#DejaVuSans-105\"/>\r\n     <use x=\"385.982422\" xlink:href=\"#DejaVuSans-110\"/>\r\n     <use x=\"449.361328\" xlink:href=\"#DejaVuSans-105\"/>\r\n     <use x=\"477.144531\" xlink:href=\"#DejaVuSans-110\"/>\r\n     <use x=\"540.523438\" xlink:href=\"#DejaVuSans-103\"/>\r\n     <use x=\"604\" xlink:href=\"#DejaVuSans-32\"/>\r\n     <use x=\"635.787109\" xlink:href=\"#DejaVuSans-68\"/>\r\n     <use x=\"712.789062\" xlink:href=\"#DejaVuSans-97\"/>\r\n     <use x=\"774.068359\" xlink:href=\"#DejaVuSans-116\"/>\r\n     <use x=\"813.277344\" xlink:href=\"#DejaVuSans-97\"/>\r\n    </g>\r\n   </g>\r\n  </g>\r\n </g>\r\n <defs>\r\n  <clipPath id=\"p7e021edceb\">\r\n   <rect height=\"19.429199\" width=\"72.782609\" x=\"39.65\" y=\"22.318125\"/>\r\n  </clipPath>\r\n  <clipPath id=\"pa6706d65dd\">\r\n   <rect height=\"19.429199\" width=\"72.782609\" x=\"126.98913\" y=\"22.318125\"/>\r\n  </clipPath>\r\n  <clipPath id=\"peab197c2e7\">\r\n   <rect height=\"19.429199\" width=\"72.782609\" x=\"214.328261\" y=\"22.318125\"/>\r\n  </clipPath>\r\n  <clipPath id=\"p1992e34e11\">\r\n   <rect height=\"19.429199\" width=\"72.782609\" x=\"301.667391\" y=\"22.318125\"/>\r\n  </clipPath>\r\n </defs>\r\n</svg>\r\n",
      "image/png": "[encoded data removed]"
     },
     "metadata": {
      "needs_background": "light"
     }
    }
   ],
   "source": [
    "# View Images\n",
    "#set up GDAL\n",
    "gdal.UseExceptions()\n",
    "gdal.AllRegister()\n",
    "#open base and ROI\n",
    "img_ds = gdal.Open(f'{source_path}\\\\1\\\\img.tif', gdal.GA_ReadOnly)\n",
    "roi_ds = gdal.Open(f'{source_path}\\\\1\\\\training.tif', gdal.GA_ReadOnly)\n",
    "\n",
    "img = np.zeros((img_ds.RasterYSize, img_ds.RasterXSize, img_ds.RasterCount),\n",
    "               gdal_array.GDALTypeCodeToNumericTypeCode(img_ds.GetRasterBand(1).DataType))\n",
    "for b in range(img.shape[2]):\n",
    "    img[:, :, b] = img_ds.GetRasterBand(b + 1).ReadAsArray()\n",
    "roi = roi_ds.GetRasterBand(1).ReadAsArray().astype(np.uint8)\n",
    "\n",
    "#display\n",
    "plt.subplot(141)\n",
    "plt.imshow(img[:, :, 0], cmap=plt.cm.Greys_r)\n",
    "plt.title('TEST1R')\n",
    "\n",
    "plt.subplot(142)\n",
    "plt.imshow(img[:, :, 1], cmap=plt.cm.Greys_r)\n",
    "plt.title('TEST1G')\n",
    "\n",
    "plt.subplot(143)\n",
    "plt.imshow(img[:, :, 2], cmap=plt.cm.Greys_r)\n",
    "plt.title('TEST1B')\n",
    "\n",
    "plt.subplot(144)\n",
    "plt.imshow(roi, cmap=plt.cm.Spectral)\n",
    "plt.title('ROI Training Data')\n",
    "\n",
    "plt.show()"
   ]
  },
  {
   "cell_type": "code",
   "execution_count": 9,
   "metadata": {},
   "outputs": [
    {
     "output_type": "stream",
     "name": "stdout",
     "text": [
      "1474865 traning samples\nThe training data includes 3 classes: [1 2 4]\n"
     ]
    }
   ],
   "source": [
    "#Experimentation: Training AI model pt 1\n",
    "#get sample count\n",
    "n_samples = (roi > 0).sum()\n",
    "print(f'{n_samples} traning samples')\n",
    "\n",
    "#get labels\n",
    "labels = np.unique(roi[roi > 0])\n",
    "print(f'The training data includes {labels.size} classes: {labels}')"
   ]
  },
  {
   "cell_type": "code",
   "execution_count": 10,
   "metadata": {},
   "outputs": [
    {
     "output_type": "stream",
     "name": "stdout",
     "text": [
      "X is sized: 4424595\nY is sized: 1474865\n"
     ]
    }
   ],
   "source": [
    "#Get input and output\n",
    "X = img[roi > 0, :] #ROI masking\n",
    "Y = roi[roi > 0]\n",
    "print(f'X is sized: {X.size}')\n",
    "print(f'Y is sized: {Y.size}')\n",
    "#Why is image flattened/is it important"
   ]
  },
  {
   "cell_type": "code",
   "execution_count": 12,
   "metadata": {},
   "outputs": [
    {
     "output_type": "stream",
     "name": "stdout",
     "text": [
      "success\n"
     ]
    }
   ],
   "source": [
    "from sklearn.ensemble import RandomForestClassifier\n",
    "# Initialize our model with 500 trees\n",
    "rf = RandomForestClassifier(n_estimators=50, oob_score=True)\n",
    "# Fit our model to training data\n",
    "rf = rf.fit(X, Y)\n",
    "print('success')"
   ]
  },
  {
   "cell_type": "code",
   "execution_count": 11,
   "metadata": {},
   "outputs": [
    {
     "output_type": "error",
     "ename": "NameError",
     "evalue": "name 'rf' is not defined",
     "traceback": [
      "\u001b[1;31m---------------------------------------------------------------------------\u001b[0m",
      "\u001b[1;31mNameError\u001b[0m                                 Traceback (most recent call last)",
      "\u001b[1;32m<ipython-input-11-fac510589b78>\u001b[0m in \u001b[0;36m<module>\u001b[1;34m\u001b[0m\n\u001b[0;32m      1\u001b[0m \u001b[1;32mimport\u001b[0m \u001b[0mpickle\u001b[0m\u001b[1;33m\u001b[0m\u001b[1;33m\u001b[0m\u001b[0m\n\u001b[1;32m----> 2\u001b[1;33m \u001b[0mpickle\u001b[0m\u001b[1;33m.\u001b[0m\u001b[0mdump\u001b[0m\u001b[1;33m(\u001b[0m\u001b[0mrf\u001b[0m\u001b[1;33m,\u001b[0m\u001b[0mopen\u001b[0m\u001b[1;33m(\u001b[0m\u001b[1;34m'testmodel.p'\u001b[0m\u001b[1;33m,\u001b[0m \u001b[1;34m'wb'\u001b[0m\u001b[1;33m)\u001b[0m\u001b[1;33m)\u001b[0m\u001b[1;33m\u001b[0m\u001b[1;33m\u001b[0m\u001b[0m\n\u001b[0m",
      "\u001b[1;31mNameError\u001b[0m: name 'rf' is not defined"
     ]
    }
   ],
   "source": [
    "import pickle\n",
    "pickle.dump(rf,open('testmodel.p', 'wb'))"
   ]
  },
  {
   "cell_type": "code",
   "execution_count": 13,
   "metadata": {},
   "outputs": [
    {
     "output_type": "stream",
     "name": "stdout",
     "text": [
      "0.9267817732470429\n"
     ]
    }
   ],
   "source": [
    "import pickle\n",
    "from sklearn.metrics import accuracy_score\n",
    "with open('testmodel.p','rb') as infile:\n",
    "    model = pickle.load(infile)\n",
    "prediction = model.predict(X)\n",
    "score = accuracy_score(Y, prediction)\n",
    "print(score)"
   ]
  },
  {
   "cell_type": "code",
   "execution_count": null,
   "metadata": {},
   "outputs": [],
   "source": [
    "#score = 0.92678"
   ]
  }
 ]
}